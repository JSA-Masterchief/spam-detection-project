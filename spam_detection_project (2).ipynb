{
  "nbformat": 4,
  "nbformat_minor": 0,
  "metadata": {
    "colab": {
      "provenance": []
    },
    "kernelspec": {
      "name": "python3",
      "display_name": "Python 3"
    },
    "language_info": {
      "name": "python"
    }
  },
  "cells": [
    {
      "cell_type": "code",
      "execution_count": 5,
      "metadata": {
        "colab": {
          "base_uri": "https://localhost:8080/"
        },
        "id": "jgpAFEFJnI7B",
        "outputId": "e20e39a3-e042-4b84-b56c-7e17ba90a19a"
      },
      "outputs": [
        {
          "name": "stdout",
          "output_type": "stream",
          "text": [
            "Enter a message to classify (or 'exit' to quit): Hi, how are you?\n",
            "The message is classified as: ham\n",
            "Enter a message to classify (or 'exit' to quit): Give $500 immediately\n",
            "The message is classified as: spam\n",
            "Enter a message to classify (or 'exit' to quit): exit\n"
          ]
        }
      ],
      "source": [
        "# Function to classify a single message\n",
        "def classify_message(message):\n",
        "    message_counts = vectorizer.transform([message])\n",
        "    prediction = model.predict(message_counts)\n",
        "    return prediction[0]\n",
        "\n",
        "# Test with manual input messages\n",
        "while True:\n",
        "    user_input = input(\"Enter a message to classify (or 'exit' to quit): \")\n",
        "    if user_input.lower() == 'exit':\n",
        "        break\n",
        "    prediction = classify_message(user_input)\n",
        "    print(f\"The message is classified as: {prediction}\")"
      ]
    }
  ]
}