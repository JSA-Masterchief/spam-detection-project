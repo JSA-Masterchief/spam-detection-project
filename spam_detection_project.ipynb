{
  "nbformat": 4,
  "nbformat_minor": 0,
  "metadata": {
    "colab": {
      "provenance": []
    },
    "kernelspec": {
      "name": "python3",
      "display_name": "Python 3"
    },
    "language_info": {
      "name": "python"
    }
  },
  "cells": [
    {
      "cell_type": "code",
      "execution_count": 1,
      "metadata": {
        "id": "jgpAFEFJnI7B"
      },
      "outputs": [],
      "source": [
        "import csv\n",
        "input_file = 'SMSSpamCollection.txt'\n",
        "output_file = 'dataset.csv'\n",
        "with open(input_file, 'r', encoding='utf-8') as txt_file:\n",
        "    with open(output_file, 'w', newline='', encoding='utf-8') as csv_file:\n",
        "        writer = csv.writer(csv_file)\n",
        "        writer.writerow(['label', 'message'])\n",
        "        for line in txt_file:\n",
        "            label_message = line.strip().split(None, 1)\n",
        "            if len(label_message) == 2:\n",
        "                writer.writerow(label_message)"
      ]
    }
  ]
}